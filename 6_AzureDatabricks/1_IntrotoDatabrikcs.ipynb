{
 "cells": [
  {
   "cell_type": "markdown",
   "metadata": {},
   "source": [
    "# 6. Azure Databricks\n",
    "\n",
    "## 6.1. Magic Commands\n",
    "\n",
    "* Magic Commands are specific to the Databricks notebooks\n",
    "* A single percent (%) symbol at the start of a cell identifies a Magic Commands\n",
    "\n",
    "### &percnt;python, &percnt;scala, &percnt;sql, &percnt;r\n",
    "\n",
    "* **&percnt;python** -> Runs the cell with python\n",
    "* **&percnt;scala** -> Runs the cell with scala\n",
    "* **&percnt;sql** -> Runs the cell with sql\n",
    "* **&percnt;r** -> Runs the cell with R\n",
    "\n",
    "### &percnt;sh\n",
    "Below cell with `%sh` act as a linux shell."
   ]
  },
  {
   "cell_type": "code",
   "execution_count": null,
   "metadata": {
    "vscode": {
     "languageId": "shellscript"
    }
   },
   "outputs": [],
   "source": [
    "%sh ls -la"
   ]
  },
  {
   "cell_type": "markdown",
   "metadata": {},
   "source": [
    "### &percnt;run\n",
    "* You can run a notebook from another notebook by using the Magic Command **%run**\n",
    "* All variables & functions defined in that other notebook will become available in your current notebook\n",
    "\n",
    "`Note` that here `./Includes/hello-world.py` will be called as below without referencing `.py`."
   ]
  },
  {
   "cell_type": "code",
   "execution_count": null,
   "metadata": {},
   "outputs": [],
   "source": [
    "%run \"./Includes/hello-world\""
   ]
  },
  {
   "cell_type": "markdown",
   "metadata": {},
   "source": [
    "### Databricks Utilities - dbutils\n",
    "* You can access the DBFS through the Databricks Utilities class (and other file IO routines).\n",
    "* An instance of DBUtils is already declared for us as `dbutils`.\n",
    "* For in-notebook documentation on DBUtils you can execute the command `dbutils.help()`.\n",
    "\n",
    "Additional help is available for each sub-utility:\n",
    "* `dbutils.fs.help()`\n",
    "* `dbutils.meta.help()`\n",
    "* `dbutils.notebook.help()`\n",
    "* `dbutils.widgets.help()`\n",
    "\n",
    "Let's take a look at the file system utilities, `dbutils.fs`"
   ]
  },
  {
   "cell_type": "markdown",
   "metadata": {},
   "source": [
    "### dbutils.fs.mounts()\n",
    "* All our datasets should be mounted\n",
    "* We can use `dbutils.fs.mounts()` to verify that assertion\n",
    "* This method returns a collection of `MountInfo` objects"
   ]
  },
  {
   "cell_type": "code",
   "execution_count": null,
   "metadata": {},
   "outputs": [],
   "source": [
    "mounts = dbutils.fs.mounts()\n",
    "\n",
    "for mount in mounts:\n",
    "  print(mount.mountPoint + \" >> \" + mount.source)\n",
    "\n",
    "# Print out will be like\n",
    "# /databricks-datasets >> databricks-datasets\n",
    "# /databricks-results >> databricks-results"
   ]
  },
  {
   "cell_type": "markdown",
   "metadata": {},
   "source": [
    "### dbutils.fs.ls(..)\n",
    "* And now we can use `dbutils.fs.ls(..)` to view the contents of that mount\n",
    "* This method returns a collection of `FileInfo` objects"
   ]
  },
  {
   "cell_type": "code",
   "execution_count": null,
   "metadata": {},
   "outputs": [],
   "source": [
    "files = dbutils.fs.ls(\"/databricks-datasets/\")\n",
    "\n",
    "for file_info in files:\n",
    "  print(file_info.path)\n",
    "  \n",
    "# Print out will be like\n",
    "# dbfs:/databricks-datasets/adult/\n",
    "# dbfs:/databricks-datasets/airlines/"
   ]
  },
  {
   "cell_type": "markdown",
   "metadata": {},
   "source": [
    "### display(..)\n",
    "\n",
    "Besides printing each item returned from `dbutils.fs.ls(..)` we can also pass that collection to another Databricks specific command called `display(..)`."
   ]
  },
  {
   "cell_type": "code",
   "execution_count": null,
   "metadata": {},
   "outputs": [],
   "source": [
    "files = dbutils.fs.ls(\"/databricks-datasets\")\n",
    "\n",
    "display(files)\n",
    "# Display will render the files as in the below cell"
   ]
  },
  {
   "attachments": {
    "1.png": {
     "image/png": "[encoded data removed]"
    }
   },
   "cell_type": "markdown",
   "metadata": {},
   "source": [
    "![Display](attachment:1.png)"
   ]
  },
  {
   "cell_type": "markdown",
   "metadata": {},
   "source": [
    "### &percnt;fs\n",
    "\n",
    "We can also use the wrapper around `dbutils.fs` and it is the Magic Command known as **&percnt;fs**.\n",
    "\n",
    "The following call is equivalent to the previous call, `display(dbutils.fs.ls(\"/databricks-datasets\"))`"
   ]
  },
  {
   "cell_type": "code",
   "execution_count": null,
   "metadata": {},
   "outputs": [],
   "source": [
    "%fs ls /databricks-datasets"
   ]
  }
 ],
 "metadata": {
  "language_info": {
   "name": "python"
  }
 },
 "nbformat": 4,
 "nbformat_minor": 2
}
